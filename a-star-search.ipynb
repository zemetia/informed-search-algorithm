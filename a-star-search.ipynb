{
 "cells": [
  {
   "cell_type": "code",
   "execution_count": 21,
   "metadata": {},
   "outputs": [],
   "source": [
    "from graph import CityGraph, Node, ChildNode\n",
    "from queue import PriorityQueue"
   ]
  },
  {
   "cell_type": "code",
   "execution_count": 22,
   "metadata": {},
   "outputs": [],
   "source": [
    "class AStarSearch(CityGraph):\n",
    "    def __init__(self) -> None:\n",
    "        super().__init__()\n",
    "    \n",
    "    def algorithm(self, start, goal):\n",
    "        pq = PriorityQueue()\n",
    "        start_node: Node = self.cities[start]\n",
    "        goal_node: Node = self.cities[goal]\n",
    "\n",
    "        pq.put(( start_node.heur, start_node ))\n",
    "        path = {start: None}\n",
    "        gscore = {start: 0}\n",
    "\n",
    "        path[start] = None\n",
    "        gscore[start] = 0\n",
    "\n",
    "        while not pq.empty():\n",
    "            fscore: int\n",
    "            curr: Node\n",
    "\n",
    "            (fscore, curr) = pq.get()\n",
    "            if curr == goal_node: break\n",
    "\n",
    "            next: ChildNode\n",
    "            for next in curr.child:\n",
    "                node = next.node\n",
    "                dist: int = next.dist + gscore[curr.city]\n",
    "\n",
    "                if node.city not in gscore or dist < gscore[node.city]:\n",
    "                    gscore[node.city] = dist\n",
    "                    path[node.city] = curr\n",
    "                    fscore: int = node.heur + dist\n",
    "                    pq.put(( fscore, node ))\n",
    "\n",
    "        return (path, fscore)\n",
    "        \n"
   ]
  },
  {
   "cell_type": "code",
   "execution_count": 23,
   "metadata": {},
   "outputs": [],
   "source": [
    "def make_path(start, goal, path):\n",
    "    full_path = []\n",
    "    i = goal\n",
    "\n",
    "    full_path.append(i)\n",
    "    while (path.get(i) != None):\n",
    "        full_path.append(path[i].city)\n",
    "        i = path[i].city\n",
    "    full_path.reverse()\n",
    "\n",
    "    return full_path"
   ]
  },
  {
   "cell_type": "code",
   "execution_count": 24,
   "metadata": {},
   "outputs": [
    {
     "name": "stdout",
     "output_type": "stream",
     "text": [
      "Lintasan terpendek: Arad -> Sibiu -> Rimnicu Vilcea -> Pitesti -> Bucharest\n",
      "Jumlah node yang ditempuh: 5\n",
      "Total jarak: 418\n"
     ]
    }
   ],
   "source": [
    "astar = AStarSearch()\n",
    "astar.load_dataset('romania-problem')\n",
    "\n",
    "start = \"Arad\"\n",
    "goal = \"Bucharest\"\n",
    "\n",
    "(path, score) = astar.algorithm(start, goal)\n",
    "\n",
    "print(\"Lintasan terpendek:\", \" -> \".join(make_path(start, goal, path)))\n",
    "print(\"Jumlah node yang ditempuh:\", len(make_path(start, goal, path)))\n",
    "print(\"Total jarak:\", score)"
   ]
  }
 ],
 "metadata": {
  "kernelspec": {
   "display_name": "Python 3",
   "language": "python",
   "name": "python3"
  },
  "language_info": {
   "codemirror_mode": {
    "name": "ipython",
    "version": 3
   },
   "file_extension": ".py",
   "mimetype": "text/x-python",
   "name": "python",
   "nbconvert_exporter": "python",
   "pygments_lexer": "ipython3",
   "version": "3.11.2"
  },
  "orig_nbformat": 4
 },
 "nbformat": 4,
 "nbformat_minor": 2
}
