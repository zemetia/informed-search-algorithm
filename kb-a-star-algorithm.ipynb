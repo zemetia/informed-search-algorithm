{
 "cells": [
  {
   "cell_type": "code",
   "execution_count": 1,
   "metadata": {},
   "outputs": [],
   "source": [
    "from graph import CityGraph, Node, ChildNode\n",
    "from queue import PriorityQueue"
   ]
  },
  {
   "cell_type": "code",
   "execution_count": 2,
   "metadata": {},
   "outputs": [],
   "source": [
    "class AStar(CityGraph):\n",
    "    def __init__(self) -> None:\n",
    "        super().__init__()\n",
    "    \n",
    "    def algorithm(self, _from: str, _target: str):\n",
    "        q = PriorityQueue()\n",
    "        from_node: Node = self.cities[_from]\n",
    "        target_node: Node = self.cities[_target]\n",
    "\n",
    "        q.put(( from_node.heur, from_node ))\n",
    "        path = {}\n",
    "        gscore = {}\n",
    "\n",
    "        path[_from] = None\n",
    "        gscore[_from] = 0\n",
    "\n",
    "        while not q.empty():\n",
    "            fscore: int\n",
    "            curr: Node\n",
    "\n",
    "            (fscore, curr) = q.get()\n",
    "            if curr == target_node: break\n",
    "\n",
    "            next: ChildNode\n",
    "            for next in curr.child:\n",
    "                node = next.node\n",
    "                dist: int = next.dist + gscore[curr.city]\n",
    "\n",
    "                if node.city not in gscore or dist < gscore[node.city]:\n",
    "                    gscore[node.city] = dist\n",
    "                    path[node.city] = curr\n",
    "                    fscore: int = node.heur + dist\n",
    "                    q.put(( fscore, node ))\n",
    "\n",
    "        return (path, gscore)\n",
    "        \n"
   ]
  },
  {
   "cell_type": "code",
   "execution_count": 6,
   "metadata": {},
   "outputs": [],
   "source": [
    "def make_path(_from: str, _target: str, path):\n",
    "    full_path = []\n",
    "    i = _target\n",
    "\n",
    "    full_path.append(i)\n",
    "    while (path.get(i) != None):\n",
    "        full_path.append(path[i].city)\n",
    "        i = path[i].city\n",
    "    full_path.reverse()\n",
    "\n",
    "    return full_path"
   ]
  },
  {
   "cell_type": "code",
   "execution_count": 7,
   "metadata": {},
   "outputs": [
    {
     "name": "stdout",
     "output_type": "stream",
     "text": [
      "['city1', 'city2'] {'city1': 0, 'city2': 10}\n"
     ]
    }
   ],
   "source": [
    "astar = AStar()\n",
    "astar.load_data('dataset-1')\n",
    "\n",
    "(path, score) = astar.algorithm(\n",
    "    _from = \"city1\", \n",
    "    _target = \"city2\"\n",
    ")\n",
    "\n",
    "print(make_path(\"city1\", \"city2\", path), score)"
   ]
  },
  {
   "cell_type": "code",
   "execution_count": null,
   "metadata": {},
   "outputs": [],
   "source": []
  }
 ],
 "metadata": {
  "kernelspec": {
   "display_name": "Python 3",
   "language": "python",
   "name": "python3"
  },
  "language_info": {
   "codemirror_mode": {
    "name": "ipython",
    "version": 3
   },
   "file_extension": ".py",
   "mimetype": "text/x-python",
   "name": "python",
   "nbconvert_exporter": "python",
   "pygments_lexer": "ipython3",
   "version": "3.10.5"
  },
  "orig_nbformat": 4
 },
 "nbformat": 4,
 "nbformat_minor": 2
}
