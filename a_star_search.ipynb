{
 "cells": [
  {
   "cell_type": "code",
   "execution_count": 9,
   "metadata": {},
   "outputs": [],
   "source": [
    "from graph import CityGraph, Node, ChildNode\n",
    "from queue import PriorityQueue"
   ]
  },
  {
   "cell_type": "code",
   "execution_count": 10,
   "metadata": {},
   "outputs": [],
   "source": [
    "class AStarSearch(CityGraph):\n",
    "    def __init__(self) -> None:\n",
    "        super().__init__()\n",
    "    \n",
    "    def algorithm(self, start, goal):\n",
    "        pq = PriorityQueue()\n",
    "        start_node: Node = self.cities[start]\n",
    "        goal_node: Node = self.cities[goal]\n",
    "\n",
    "        pq.put(( start_node.heur, start_node ))\n",
    "        path = {start: None}\n",
    "        gscore = {start: 0}\n",
    "\n",
    "        path[start] = None\n",
    "        gscore[start] = 0\n",
    "\n",
    "        while not pq.empty():\n",
    "            fscore: int\n",
    "            curr: Node\n",
    "\n",
    "            (fscore, curr) = pq.get()\n",
    "            if curr == goal_node: break\n",
    "\n",
    "            next: ChildNode\n",
    "            for next in curr.child:\n",
    "                node = next.node\n",
    "                dist: int = next.dist + gscore[curr.city]\n",
    "\n",
    "                if node.city not in gscore or dist < gscore[node.city]:\n",
    "                    gscore[node.city] = dist\n",
    "                    path[node.city] = curr\n",
    "                    fscore: int = node.heur + dist\n",
    "                    pq.put(( fscore, node ))\n",
    "\n",
    "        return (path, fscore)\n",
    "        \n"
   ]
  },
  {
   "cell_type": "code",
   "execution_count": 11,
   "metadata": {},
   "outputs": [],
   "source": [
    "def make_path(goal, path):\n",
    "    full_path = []\n",
    "    i = goal\n",
    "\n",
    "    full_path.append(i)\n",
    "    while (path.get(i) != None):\n",
    "        full_path.append(path[i].city)\n",
    "        i = path[i].city\n",
    "    full_path.reverse()\n",
    "\n",
    "    return full_path"
   ]
  },
  {
   "cell_type": "code",
   "execution_count": null,
   "metadata": {},
   "outputs": [],
   "source": []
  },
  {
   "cell_type": "code",
   "execution_count": 12,
   "metadata": {},
   "outputs": [
    {
     "ename": "AttributeError",
     "evalue": "'ChildNode' object has no attribute 'cost'",
     "output_type": "error",
     "traceback": [
      "\u001b[1;31m---------------------------------------------------------------------------\u001b[0m",
      "\u001b[1;31mAttributeError\u001b[0m                            Traceback (most recent call last)",
      "Cell \u001b[1;32mIn[12], line 7\u001b[0m\n\u001b[0;32m      4\u001b[0m start \u001b[39m=\u001b[39m \u001b[39m\"\u001b[39m\u001b[39mArad\u001b[39m\u001b[39m\"\u001b[39m\n\u001b[0;32m      5\u001b[0m goal \u001b[39m=\u001b[39m \u001b[39m\"\u001b[39m\u001b[39mBucharest\u001b[39m\u001b[39m\"\u001b[39m\n\u001b[1;32m----> 7\u001b[0m (path, score) \u001b[39m=\u001b[39m astar\u001b[39m.\u001b[39;49malgorithm(start, goal)\n\u001b[0;32m      9\u001b[0m \u001b[39mprint\u001b[39m(\u001b[39m\"\u001b[39m\u001b[39mLintasan terpendek:\u001b[39m\u001b[39m\"\u001b[39m, \u001b[39m\"\u001b[39m\u001b[39m -> \u001b[39m\u001b[39m\"\u001b[39m\u001b[39m.\u001b[39mjoin(make_path(goal, path)))\n\u001b[0;32m     10\u001b[0m \u001b[39mprint\u001b[39m(\u001b[39m\"\u001b[39m\u001b[39mJumlah node yang dilalui:\u001b[39m\u001b[39m\"\u001b[39m, \u001b[39mlen\u001b[39m(make_path(goal, path)))\n",
      "Cell \u001b[1;32mIn[6], line 23\u001b[0m, in \u001b[0;36mAStar.algorithm\u001b[1;34m(self, start, goal)\u001b[0m\n\u001b[0;32m     21\u001b[0m \u001b[39mfor\u001b[39;00m \u001b[39mnext\u001b[39m \u001b[39min\u001b[39;00m curr\u001b[39m.\u001b[39mchild:\n\u001b[0;32m     22\u001b[0m     node \u001b[39m=\u001b[39m \u001b[39mnext\u001b[39m\u001b[39m.\u001b[39mnode\n\u001b[1;32m---> 23\u001b[0m     new_g \u001b[39m=\u001b[39m g \u001b[39m+\u001b[39m \u001b[39mnext\u001b[39;49m\u001b[39m.\u001b[39;49mcost  \u001b[39m# actual cost of the path from start to node\u001b[39;00m\n\u001b[0;32m     24\u001b[0m     f \u001b[39m=\u001b[39m new_g \u001b[39m+\u001b[39m node\u001b[39m.\u001b[39mheur  \u001b[39m# f(n) = g(n) + h(n)\u001b[39;00m\n\u001b[0;32m     26\u001b[0m     \u001b[39mif\u001b[39;00m node\u001b[39m.\u001b[39mcity \u001b[39mnot\u001b[39;00m \u001b[39min\u001b[39;00m visited:\n",
      "\u001b[1;31mAttributeError\u001b[0m: 'ChildNode' object has no attribute 'cost'"
     ]
    }
   ],
   "source": [
    "astar = AStarSearch()\n",
    "astar.load_dataset('romania-map-problem')\n",
    "\n",
    "start = \"Arad\"\n",
    "goal = \"Bucharest\"\n",
    "\n",
    "(path, score) = astar.algorithm(start, goal)\n",
    "\n",
    "print(\"Lintasan terpendek:\", \" -> \".join(make_path(goal, path)))\n",
    "print(\"Jumlah node yang dilalui:\", len(make_path(goal, path)))\n",
    "print(\"Total jarak tempuh:\", score)"
   ]
  }
 ],
 "metadata": {
  "kernelspec": {
   "display_name": "Python 3",
   "language": "python",
   "name": "python3"
  },
  "language_info": {
   "codemirror_mode": {
    "name": "ipython",
    "version": 3
   },
   "file_extension": ".py",
   "mimetype": "text/x-python",
   "name": "python",
   "nbconvert_exporter": "python",
   "pygments_lexer": "ipython3",
   "version": "3.11.2"
  },
  "orig_nbformat": 4
 },
 "nbformat": 4,
 "nbformat_minor": 2
}
