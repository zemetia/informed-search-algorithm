{
 "cells": [
  {
   "cell_type": "code",
   "execution_count": 17,
   "metadata": {},
   "outputs": [],
   "source": [
    "from graph import CityGraph, Node\n",
    "from queue import PriorityQueue"
   ]
  },
  {
   "cell_type": "code",
   "execution_count": 18,
   "metadata": {},
   "outputs": [],
   "source": [
    "class GBFS(CityGraph):\n",
    "    def __init__(self) -> None:\n",
    "        super().__init__()\n",
    "\n",
    "    def algorithm(self, start, goal):\n",
    "        pq = PriorityQueue()\n",
    "        start_node: Node = self.cities[start]\n",
    "        goal_node: Node = self.cities[goal]\n",
    "\n",
    "        pq.put((start_node.heur, start_node))\n",
    "        path = {start: None}\n",
    "        visited = set()\n",
    "\n",
    "        path[start] = None\n",
    "\n",
    "        while not pq.empty():\n",
    "            curr_h, curr = pq.get()\n",
    "            visited.add(curr.city)\n",
    "\n",
    "            if curr == goal_node:\n",
    "                break\n",
    "\n",
    "            for next in curr.child:\n",
    "                node = next.node\n",
    "                if node.city not in visited:\n",
    "                    pq.put((node.heur, node))\n",
    "                    path[node.city] = curr\n",
    "\n",
    "        return path\n",
    "\n",
    "        \n"
   ]
  },
  {
   "cell_type": "code",
   "execution_count": 19,
   "metadata": {},
   "outputs": [],
   "source": [
    "def make_path(goal, path):\n",
    "    full_path = []\n",
    "    i = goal\n",
    "\n",
    "    full_path.append(i)\n",
    "    while (path.get(i) != None):\n",
    "        full_path.append(path[i].city)\n",
    "        i = path[i].city\n",
    "    full_path.reverse()\n",
    "\n",
    "    return full_path"
   ]
  },
  {
   "cell_type": "code",
   "execution_count": 20,
   "metadata": {},
   "outputs": [
    {
     "name": "stdout",
     "output_type": "stream",
     "text": [
      "Lintasan terpendek: Arad -> Sibiu -> Fagaras -> Bucharest\n",
      "Jumlah kota yang ditempuh: 4\n"
     ]
    }
   ],
   "source": [
    "greedy = GBFS()\n",
    "greedy.load_dataset('romania-problem')\n",
    "\n",
    "start = \"Arad\"\n",
    "goal = \"Bucharest\n",
    "\n",
    "path = greedy.algorithm(start, goal)\n",
    "\n",
    "print(\"Lintasan terpendek:\", \" -> \".join(make_path(goal, path)))\n",
    "print(\"Jumlah kota yang ditempuh:\", len(make_path(goal, path)))"
   ]
  }
 ],
 "metadata": {
  "kernelspec": {
   "display_name": "Python 3",
   "language": "python",
   "name": "python3"
  },
  "language_info": {
   "codemirror_mode": {
    "name": "ipython",
    "version": 3
   },
   "file_extension": ".py",
   "mimetype": "text/x-python",
   "name": "python",
   "nbconvert_exporter": "python",
   "pygments_lexer": "ipython3",
   "version": "3.11.2"
  },
  "orig_nbformat": 4
 },
 "nbformat": 4,
 "nbformat_minor": 2
}
