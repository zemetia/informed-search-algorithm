{
 "cells": [
  {
   "cell_type": "code",
   "execution_count": 45,
   "metadata": {},
   "outputs": [],
   "source": [
    "from graph import CityGraph, Node, ChildNode\n",
    "from queue import PriorityQueue"
   ]
  },
  {
   "cell_type": "code",
   "execution_count": 46,
   "metadata": {},
   "outputs": [],
   "source": [
    "class GreedyBestFirstSearch(CityGraph):\n",
    "    def __init__(self) -> None:\n",
    "        super().__init__()\n",
    "    \n",
    "    def algorithm(self, _from: str, _target: str):\n",
    "        q = PriorityQueue()\n",
    "        from_node: Node = self.cities[_from]\n",
    "        target_node: Node = self.cities[_target]\n",
    "\n",
    "        q.put(( from_node.heur, from_node ))\n",
    "        path = {}\n",
    "        gscore = {}\n",
    "\n",
    "        path[_from] = None\n",
    "        gscore[_from] = 0\n",
    "\n",
    "        while not q.empty():\n",
    "            fscore: int\n",
    "            curr: Node\n",
    "\n",
    "            (fscore, curr) = q.get()\n",
    "            if curr == target_node: break\n",
    "\n",
    "            next: ChildNode\n",
    "            for next in curr.child:\n",
    "                node = next.node\n",
    "                dist: int = next.dist + gscore[curr.city]\n",
    "\n",
    "                if node.city not in gscore or dist < gscore[node.city]:\n",
    "                    gscore[node.city] = dist\n",
    "                    path[node.city] = curr\n",
    "                    fscore: int = node.heur\n",
    "                    q.put(( fscore, node ))\n",
    "\n",
    "        return (path, fscore)\n",
    "        \n"
   ]
  },
  {
   "cell_type": "code",
   "execution_count": 47,
   "metadata": {},
   "outputs": [],
   "source": [
    "def make_path(_from: str, _target: str, path):\n",
    "    full_path = []\n",
    "    i = _target\n",
    "\n",
    "    full_path.append(i)\n",
    "    while (path.get(i) != None):\n",
    "        full_path.append(path[i].city)\n",
    "        i = path[i].city\n",
    "    full_path.reverse()\n",
    "\n",
    "    return full_path"
   ]
  },
  {
   "cell_type": "code",
   "execution_count": 48,
   "metadata": {},
   "outputs": [
    {
     "name": "stdout",
     "output_type": "stream",
     "text": [
      "Lintasan terpendek: Arad -> Sibiu -> Fagaras -> Bucharest\n",
      "Jumlah kota yang ditempuh: 4\n"
     ]
    }
   ],
   "source": [
    "greedy = GreedyBestFirstSearch()\n",
    "greedy.load_data('romania-problem')\n",
    "\n",
    "(path, score) = greedy.algorithm(\n",
    "    _from = \"Arad\", \n",
    "    _target = \"Bucharest\"\n",
    ")\n",
    "\n",
    "print(\"Lintasan terpendek:\", \" -> \".join(make_path(\"Arad\", \"Bucharest\", path)))\n",
    "print(\"Jumlah kota yang ditempuh:\", len(make_path(\"Arad\", \"Bucharest\", path)))"
   ]
  }
 ],
 "metadata": {
  "kernelspec": {
   "display_name": "Python 3",
   "language": "python",
   "name": "python3"
  },
  "language_info": {
   "codemirror_mode": {
    "name": "ipython",
    "version": 3
   },
   "file_extension": ".py",
   "mimetype": "text/x-python",
   "name": "python",
   "nbconvert_exporter": "python",
   "pygments_lexer": "ipython3",
   "version": "3.10.5"
  },
  "orig_nbformat": 4
 },
 "nbformat": 4,
 "nbformat_minor": 2
}
